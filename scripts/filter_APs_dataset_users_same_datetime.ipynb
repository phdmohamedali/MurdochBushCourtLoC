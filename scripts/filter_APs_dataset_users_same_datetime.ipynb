{
  "nbformat": 4,
  "nbformat_minor": 0,
  "metadata": {
    "colab": {
      "name": "filter_server_data.ipynb",
      "provenance": [],
      "collapsed_sections": []
    },
    "kernelspec": {
      "name": "python3",
      "display_name": "Python 3"
    },
    "accelerator": "GPU"
  },
  "cells": [
    {
      "cell_type": "code",
      "metadata": {
        "id": "CzB6KJ5V9-PY",
        "colab_type": "code",
        "colab": {}
      },
      "source": [
        "#necessary library\n",
        "import datetime\n",
        "import pandas as pd\n",
        "import numpy as np\n",
        "import time"
      ],
      "execution_count": 0,
      "outputs": []
    },
    {
      "cell_type": "code",
      "metadata": {
        "id": "9vPwqnnsBljB",
        "colab_type": "code",
        "outputId": "e8cd3af6-cb8c-4c3b-8799-0757e9a34cdd",
        "colab": {
          "base_uri": "https://localhost:8080/",
          "height": 124
        }
      },
      "source": [
        "#mount google drive as a local hard\n",
        "from google.colab import drive\n",
        "drive.mount('/content/gdrive')"
      ],
      "execution_count": 2,
      "outputs": [
        {
          "output_type": "stream",
          "text": [
            "Go to this URL in a browser: https://accounts.google.com/o/oauth2/auth?client_id=947318989803-6bn6qk8qdgf4n4g3pfee6491hc0brc4i.apps.googleusercontent.com&redirect_uri=urn%3aietf%3awg%3aoauth%3a2.0%3aoob&response_type=code&scope=email%20https%3a%2f%2fwww.googleapis.com%2fauth%2fdocs.test%20https%3a%2f%2fwww.googleapis.com%2fauth%2fdrive%20https%3a%2f%2fwww.googleapis.com%2fauth%2fdrive.photos.readonly%20https%3a%2f%2fwww.googleapis.com%2fauth%2fpeopleapi.readonly\n",
            "\n",
            "Enter your authorization code:\n",
            "··········\n",
            "Mounted at /content/gdrive\n"
          ],
          "name": "stdout"
        }
      ]
    },
    {
      "cell_type": "code",
      "metadata": {
        "id": "gx3S4oIxDVlY",
        "colab_type": "code",
        "colab": {}
      },
      "source": [
        "def load_database(path):\n",
        "  data_set = pd.read_csv(path, names = ['bin', 'mac', 'rss','time_stamp'], skiprows=1)\n",
        "  return data_set"
      ],
      "execution_count": 0,
      "outputs": []
    },
    {
      "cell_type": "code",
      "metadata": {
        "id": "RWaSObidBpOd",
        "colab_type": "code",
        "colab": {}
      },
      "source": [
        "output_dateset = '/content/gdrive/My Drive/australia_phd/phd_data/dataset_negative.csv'\n",
        "output_database_st = '/content/gdrive/My Drive/australia_phd/phd_data/database_data/database_ouptout_final_student.csv'\n",
        "#output_database = '/content/gdrive/My Drive/australia_phd/phd_data/database_data/database_ouptout_final.csv'"
      ],
      "execution_count": 0,
      "outputs": []
    },
    {
      "cell_type": "code",
      "metadata": {
        "id": "ysoLzPeYDgSV",
        "colab_type": "code",
        "colab": {}
      },
      "source": [
        "def load_dataset(path):\n",
        "  data_set = pd.read_csv(path)\n",
        "  return data_set"
      ],
      "execution_count": 0,
      "outputs": []
    },
    {
      "cell_type": "code",
      "metadata": {
        "id": "t39UtAGAEdKv",
        "colab_type": "code",
        "colab": {}
      },
      "source": [
        "database = load_database(output_database_st)\n",
        "dataset = load_dataset(output_dateset)"
      ],
      "execution_count": 0,
      "outputs": []
    },
    {
      "cell_type": "code",
      "metadata": {
        "id": "2J__iJQdkxpy",
        "colab_type": "code",
        "colab": {
          "base_uri": "https://localhost:8080/",
          "height": 35
        },
        "outputId": "231b5d1b-daf0-40ce-96a3-89203a88cb56"
      },
      "source": [
        "len(database['mac'].unique())"
      ],
      "execution_count": 20,
      "outputs": [
        {
          "output_type": "execute_result",
          "data": {
            "text/plain": [
              "4"
            ]
          },
          "metadata": {
            "tags": []
          },
          "execution_count": 20
        }
      ]
    },
    {
      "cell_type": "code",
      "metadata": {
        "id": "Focy5EORE2Ng",
        "colab_type": "code",
        "outputId": "8064def1-8b49-4c07-9e7d-eba5d67aafb3",
        "colab": {
          "base_uri": "https://localhost:8080/",
          "height": 260
        }
      },
      "source": [
        "print(database.describe)\n",
        "#print(dataset.head())"
      ],
      "execution_count": 21,
      "outputs": [
        {
          "output_type": "stream",
          "text": [
            "<bound method NDFrame.describe of         bin  mac  rss           time_stamp\n",
            "0        38    1   89  2019-09-22 15:14:48\n",
            "1        38    1   73  2019-09-22 15:15:20\n",
            "2        11    1   89  2019-09-22 15:15:21\n",
            "3        37    1   80  2019-09-22 15:15:22\n",
            "4        33    1   89  2019-09-22 15:15:22\n",
            "...     ...  ...  ...                  ...\n",
            "458883    7    2   81  2019-09-18 14:09:42\n",
            "458884   12    2   80  2019-09-18 14:09:42\n",
            "458885    3    2   82  2019-09-18 14:09:43\n",
            "458886    6    2   74  2019-09-18 14:09:43\n",
            "458887   18    2   75  2019-09-18 14:09:44\n",
            "\n",
            "[458888 rows x 4 columns]>\n"
          ],
          "name": "stdout"
        }
      ]
    },
    {
      "cell_type": "code",
      "metadata": {
        "id": "q0l7-7n8sYIP",
        "colab_type": "code",
        "colab": {}
      },
      "source": [
        ""
      ],
      "execution_count": 0,
      "outputs": []
    },
    {
      "cell_type": "code",
      "metadata": {
        "id": "q07FPgt8G9i3",
        "colab_type": "code",
        "colab": {}
      },
      "source": [
        "groub_by_dataset = dataset.groupby(['user','x','y']).agg({'tmstm' : [np.min, np.max]})\n",
        "min_max_date_time = groub_by_dataset.reset_index()"
      ],
      "execution_count": 0,
      "outputs": []
    },
    {
      "cell_type": "code",
      "metadata": {
        "id": "zH8cijM6IAFS",
        "colab_type": "code",
        "outputId": "fa3c7066-ed42-4005-fda9-7844139c7952",
        "colab": {
          "base_uri": "https://localhost:8080/",
          "height": 269
        }
      },
      "source": [
        "min_values = min_max_date_time['tmstm']['amin']\n",
        "max_values = min_max_date_time['tmstm']['amax']\n",
        "print(min_max_date_time)"
      ],
      "execution_count": 0,
      "outputs": [
        {
          "output_type": "stream",
          "text": [
            "     user   x   y                tmstm                     \n",
            "                                  amin                 amax\n",
            "0       1   0   0  2019-09-25 18:41:40  2019-09-25 18:41:59\n",
            "1       1   0   1  2019-09-25 18:42:09  2019-09-25 18:43:29\n",
            "2       1   0   2  2019-09-25 18:43:37  2019-09-25 18:44:47\n",
            "3       1   0   3  2019-09-25 18:44:55  2019-09-25 18:45:49\n",
            "4       1   0   4  2019-09-25 18:45:59  2019-09-25 18:47:29\n",
            "...   ...  ..  ..                  ...                  ...\n",
            "4003    4  30  28  2019-10-25 11:20:05  2019-10-25 11:20:18\n",
            "4004    4  30  29  2019-10-25 11:21:04  2019-10-25 11:21:18\n",
            "4005    4  30  30  2019-10-25 11:22:03  2019-10-25 11:22:15\n",
            "4006    4  30  31  2019-10-25 11:23:04  2019-10-25 11:23:15\n",
            "4007    4  30  32  2019-10-25 11:24:04  2019-10-25 11:24:13\n",
            "\n",
            "[4008 rows x 5 columns]\n"
          ],
          "name": "stdout"
        }
      ]
    },
    {
      "cell_type": "code",
      "metadata": {
        "id": "-ensZf1tMSNV",
        "colab_type": "code",
        "colab": {}
      },
      "source": [
        "for x in range(1, max_values.size-1): \n",
        "  #all_dataset = [ds_up_1, ds_up_2, ds_up_3, ds_up_4]\n",
        "  #all_dataset = pd.concat(all_dataset)\n",
        "  #if x == 3:\n",
        "  #  exit\n",
        "  minvalue = min_max_date_time['tmstm']['amin'][x]\n",
        "  maxvalue = min_max_date_time['tmstm']['amax'][x]\n",
        "  user = min_max_date_time['user'][x]\n",
        "  #print(\"user {0} minvalue {1} maxvalue {2} i {3}\".format(user,minvalue,maxvalue,x))\n",
        "  res = database[(database['time_stamp']>= minvalue) & (database['time_stamp']<=maxvalue) & (database['mac']==user)]\n",
        "  if x == 1:\n",
        "    acc = res \n",
        "    #print('-------1')\n",
        "    #print(acc)\n",
        "  else:\n",
        "    #print('------------')\n",
        "    #print(res)\n",
        "    #print('------------')\n",
        "    acc = [acc, res]\n",
        "    acc = pd.concat(acc)\n",
        "    #print(acc)\n",
        "    #print('+++++')"
      ],
      "execution_count": 0,
      "outputs": []
    },
    {
      "cell_type": "code",
      "metadata": {
        "id": "S8CizKJPO7KE",
        "colab_type": "code",
        "colab": {}
      },
      "source": [
        "acc.to_csv(path_or_buf='/content/gdrive/My Drive/australia_phd/phd_data/database_data/database_ouptout_final_student_filtered.csv')"
      ],
      "execution_count": 0,
      "outputs": []
    },
    {
      "cell_type": "code",
      "metadata": {
        "id": "Q5aE7rv2Uwb_",
        "colab_type": "code",
        "outputId": "b78a8e48-4478-4d0a-f2ca-0568339c2c03",
        "colab": {
          "base_uri": "https://localhost:8080/",
          "height": 282
        }
      },
      "source": [
        "bin13_u1 = acc[(acc['bin']==13)&(acc['mac']==1)]\n",
        "bin13_u1.boxplot(column='rss')"
      ],
      "execution_count": 0,
      "outputs": [
        {
          "output_type": "execute_result",
          "data": {
            "text/plain": [
              "<matplotlib.axes._subplots.AxesSubplot at 0x7f4e27291780>"
            ]
          },
          "metadata": {
            "tags": []
          },
          "execution_count": 29
        },
        {
          "output_type": "display_data",
          "data": {
            "image/png": "[encoded data removed]",
            "text/plain": [
              "<Figure size 432x288 with 1 Axes>"
            ]
          },
          "metadata": {
            "tags": []
          }
        }
      ]
    },
    {
      "cell_type": "code",
      "metadata": {
        "id": "T4KJDuMbjYGT",
        "colab_type": "code",
        "colab": {}
      },
      "source": [
        "bin13_u1_m = "
      ],
      "execution_count": 0,
      "outputs": []
    }
  ]
}